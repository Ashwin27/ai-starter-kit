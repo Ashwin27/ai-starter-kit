{
 "cells": [
  {
   "cell_type": "code",
   "execution_count": null,
   "metadata": {},
   "outputs": [],
   "source": [
    "import os\n",
    "import requests\n",
    "from dotenv import load_dotenv\n",
    "\n",
    "load_dotenv()\n",
    "\n",
    "def generate_image(prompt):\n",
    "    api_key = os.getenv('DALLE_API_KEY')\n",
    "    url = 'https://api.openai.com/v1/images/generations'\n",
    "    headers = {\n",
    "        'Content-Type': 'application/json',\n",
    "        'Authorization': f'Bearer {api_key}',\n",
    "    }\n",
    "    data = {\n",
    "        'model': 'image-alpha-001',\n",
    "        'prompt': prompt,\n",
    "        'num_images': 1,\n",
    "        'size': '1024x1024',\n",
    "        'response_format': 'url'\n",
    "    }\n",
    "    response = requests.post(url, headers=headers, json=data)\n",
    "    image_url = response.json()['data'][0]['url']\n",
    "    return image_url\n"
   ]
  }
 ],
 "metadata": {
  "kernelspec": {
   "display_name": "myenv",
   "language": "python",
   "name": "python3"
  },
  "language_info": {
   "name": "python",
   "version": "3.10.10"
  },
  "orig_nbformat": 4
 },
 "nbformat": 4,
 "nbformat_minor": 2
}
